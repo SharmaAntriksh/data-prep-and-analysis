{
 "cells": [
  {
   "cell_type": "code",
   "execution_count": 1,
   "id": "4bf695d9-ac45-4d76-86e0-d70b2614c9a3",
   "metadata": {},
   "outputs": [],
   "source": [
    "import pandas as pd"
   ]
  },
  {
   "cell_type": "code",
   "execution_count": 3,
   "id": "d7676c83-40eb-4cca-bff2-317dd569e670",
   "metadata": {},
   "outputs": [
    {
     "data": {
      "text/html": [
       "<div>\n",
       "<style scoped>\n",
       "    .dataframe tbody tr th:only-of-type {\n",
       "        vertical-align: middle;\n",
       "    }\n",
       "\n",
       "    .dataframe tbody tr th {\n",
       "        vertical-align: top;\n",
       "    }\n",
       "\n",
       "    .dataframe thead th {\n",
       "        text-align: right;\n",
       "    }\n",
       "</style>\n",
       "<table border=\"1\" class=\"dataframe\">\n",
       "  <thead>\n",
       "    <tr style=\"text-align: right;\">\n",
       "      <th></th>\n",
       "      <th>Data</th>\n",
       "    </tr>\n",
       "  </thead>\n",
       "  <tbody>\n",
       "    <tr>\n",
       "      <th>0</th>\n",
       "      <td>jqum</td>\n",
       "    </tr>\n",
       "    <tr>\n",
       "      <th>1</th>\n",
       "      <td>beeaao</td>\n",
       "    </tr>\n",
       "    <tr>\n",
       "      <th>2</th>\n",
       "      <td>xyzxyz</td>\n",
       "    </tr>\n",
       "    <tr>\n",
       "      <th>3</th>\n",
       "      <td>wreeemccc</td>\n",
       "    </tr>\n",
       "    <tr>\n",
       "      <th>4</th>\n",
       "      <td>caaaaaaac</td>\n",
       "    </tr>\n",
       "    <tr>\n",
       "      <th>5</th>\n",
       "      <td>zzzzzyttttt</td>\n",
       "    </tr>\n",
       "    <tr>\n",
       "      <th>6</th>\n",
       "      <td>wwddeeqq</td>\n",
       "    </tr>\n",
       "    <tr>\n",
       "      <th>7</th>\n",
       "      <td>qwwwwwrty</td>\n",
       "    </tr>\n",
       "  </tbody>\n",
       "</table>\n",
       "</div>"
      ],
      "text/plain": [
       "          Data\n",
       "0         jqum\n",
       "1       beeaao\n",
       "2       xyzxyz\n",
       "3    wreeemccc\n",
       "4    caaaaaaac\n",
       "5  zzzzzyttttt\n",
       "6     wwddeeqq\n",
       "7    qwwwwwrty"
      ]
     },
     "execution_count": 3,
     "metadata": {},
     "output_type": "execute_result"
    }
   ],
   "source": [
    "df = pd.read_excel(r\"E-694 Repeat Characters Except Consecutives.xlsx\", usecols = 'A')\n",
    "df"
   ]
  },
  {
   "cell_type": "code",
   "execution_count": 52,
   "id": "2a655e3d-22f4-4ace-bce3-76d7fac40495",
   "metadata": {},
   "outputs": [],
   "source": [
    "def repeat_characters(string):\n",
    "    a = list(string)\n",
    "    b = a[1:] + ['']\n",
    "    c = [''] + a[:-1]\n",
    "    d = list(zip(a, b, c))\n",
    "    e = []\n",
    "    for x in d:\n",
    "        if ((x[0] != x[1]) * (x[0] != x[2])) == 1:\n",
    "            e.append(x[0]*2)\n",
    "        else:\n",
    "            e.append(x[0])\n",
    "    return ''.join(e)"
   ]
  },
  {
   "cell_type": "code",
   "execution_count": 72,
   "id": "92def6df-b09c-4b42-9399-d05dd4ea9f1d",
   "metadata": {},
   "outputs": [
    {
     "data": {
      "text/html": [
       "<div>\n",
       "<style scoped>\n",
       "    .dataframe tbody tr th:only-of-type {\n",
       "        vertical-align: middle;\n",
       "    }\n",
       "\n",
       "    .dataframe tbody tr th {\n",
       "        vertical-align: top;\n",
       "    }\n",
       "\n",
       "    .dataframe thead th {\n",
       "        text-align: right;\n",
       "    }\n",
       "</style>\n",
       "<table border=\"1\" class=\"dataframe\">\n",
       "  <thead>\n",
       "    <tr style=\"text-align: right;\">\n",
       "      <th></th>\n",
       "      <th>Data</th>\n",
       "      <th>Ans</th>\n",
       "    </tr>\n",
       "  </thead>\n",
       "  <tbody>\n",
       "    <tr>\n",
       "      <th>0</th>\n",
       "      <td>jqum</td>\n",
       "      <td>jjqquumm</td>\n",
       "    </tr>\n",
       "    <tr>\n",
       "      <th>1</th>\n",
       "      <td>beeaao</td>\n",
       "      <td>bbeeaaoo</td>\n",
       "    </tr>\n",
       "    <tr>\n",
       "      <th>2</th>\n",
       "      <td>xyzxyz</td>\n",
       "      <td>xxyyzzxxyyzz</td>\n",
       "    </tr>\n",
       "    <tr>\n",
       "      <th>3</th>\n",
       "      <td>wreeemccc</td>\n",
       "      <td>wwrreeemmccc</td>\n",
       "    </tr>\n",
       "    <tr>\n",
       "      <th>4</th>\n",
       "      <td>caaaaaaac</td>\n",
       "      <td>ccaaaaaaacc</td>\n",
       "    </tr>\n",
       "    <tr>\n",
       "      <th>5</th>\n",
       "      <td>zzzzzyttttt</td>\n",
       "      <td>zzzzzyyttttt</td>\n",
       "    </tr>\n",
       "    <tr>\n",
       "      <th>6</th>\n",
       "      <td>wwddeeqq</td>\n",
       "      <td>wwddeeqq</td>\n",
       "    </tr>\n",
       "    <tr>\n",
       "      <th>7</th>\n",
       "      <td>qwwwwwrty</td>\n",
       "      <td>qqwwwwwrrttyy</td>\n",
       "    </tr>\n",
       "  </tbody>\n",
       "</table>\n",
       "</div>"
      ],
      "text/plain": [
       "          Data            Ans\n",
       "0         jqum       jjqquumm\n",
       "1       beeaao       bbeeaaoo\n",
       "2       xyzxyz   xxyyzzxxyyzz\n",
       "3    wreeemccc   wwrreeemmccc\n",
       "4    caaaaaaac    ccaaaaaaacc\n",
       "5  zzzzzyttttt   zzzzzyyttttt\n",
       "6     wwddeeqq       wwddeeqq\n",
       "7    qwwwwwrty  qqwwwwwrrttyy"
      ]
     },
     "execution_count": 72,
     "metadata": {},
     "output_type": "execute_result"
    }
   ],
   "source": [
    "df['Ans'] = df['Data'].apply(repeat_characters)\n",
    "df"
   ]
  },
  {
   "cell_type": "code",
   "execution_count": 71,
   "id": "a1a0927e-1e63-46bb-a77c-99960cc91dcf",
   "metadata": {},
   "outputs": [],
   "source": [
    "def repeat_characters(string):\n",
    "    text = string\n",
    "    result = []\n",
    "    \n",
    "    for i in range(0, len(text)):\n",
    "        prev = text[i - 1] if i > 0 else ''\n",
    "        curr = text[i]\n",
    "        next_ = text[i + 1] if i < len(text) - 1 else ''\n",
    "        n = (curr != prev) * (curr != next_)\n",
    "        \n",
    "        result.append(curr * 2) if n == 1 else result.append(curr)\n",
    "\n",
    "    return ''.join(result)"
   ]
  },
  {
   "cell_type": "code",
   "execution_count": null,
   "id": "0fea4643-2a7c-473d-8a23-9706ee5273b2",
   "metadata": {},
   "outputs": [],
   "source": []
  }
 ],
 "metadata": {
  "kernelspec": {
   "display_name": "Python 3 (ipykernel)",
   "language": "python",
   "name": "python3"
  },
  "language_info": {
   "codemirror_mode": {
    "name": "ipython",
    "version": 3
   },
   "file_extension": ".py",
   "mimetype": "text/x-python",
   "name": "python",
   "nbconvert_exporter": "python",
   "pygments_lexer": "ipython3",
   "version": "3.13.2"
  }
 },
 "nbformat": 4,
 "nbformat_minor": 5
}
